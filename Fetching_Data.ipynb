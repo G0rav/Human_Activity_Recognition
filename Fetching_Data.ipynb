{
  "nbformat": 4,
  "nbformat_minor": 0,
  "metadata": {
    "colab": {
      "name": "Fetching_Data.ipynb",
      "provenance": [],
      "authorship_tag": "ABX9TyMTHRC5pM8DmRf/qitn8vfn"
    },
    "kernelspec": {
      "name": "python3",
      "display_name": "Python 3"
    }
  },
  "cells": [
    {
      "cell_type": "code",
      "metadata": {
        "colab": {
          "base_uri": "https://localhost:8080/"
        },
        "id": "LbGF_QAeUJKZ",
        "outputId": "bf640d36-82ea-45bc-c00b-6893d91809ba"
      },
      "source": [
        "#Mounting google drive to store dataset\n",
        "from google.colab import drive\n",
        "drive.mount('/content/drive')"
      ],
      "execution_count": 1,
      "outputs": [
        {
          "output_type": "stream",
          "text": [
            "Mounted at /content/drive\n"
          ],
          "name": "stdout"
        }
      ]
    },
    {
      "cell_type": "code",
      "metadata": {
        "id": "6pHnYzE8UcE6"
      },
      "source": [
        "#importing necessary libraries\n",
        "import os\n",
        "import pandas as pd"
      ],
      "execution_count": 2,
      "outputs": []
    },
    {
      "cell_type": "code",
      "metadata": {
        "colab": {
          "base_uri": "https://localhost:8080/"
        },
        "id": "4eaeSdp8UcJq",
        "outputId": "5adbb476-d023-4eae-9d37-e9c869c9cb9e"
      },
      "source": [
        "#Downloading data from UCI Machine Learning repository\n",
        "!wget http://archive.ics.uci.edu/ml/machine-learning-databases/00319/MHEALTHDATASET.zip\n",
        "!unzip MHEALTHDATASET.zip"
      ],
      "execution_count": 3,
      "outputs": [
        {
          "output_type": "stream",
          "text": [
            "--2021-02-14 11:36:37--  http://archive.ics.uci.edu/ml/machine-learning-databases/00319/MHEALTHDATASET.zip\n",
            "Resolving archive.ics.uci.edu (archive.ics.uci.edu)... 128.195.10.252\n",
            "Connecting to archive.ics.uci.edu (archive.ics.uci.edu)|128.195.10.252|:80... connected.\n",
            "HTTP request sent, awaiting response... 200 OK\n",
            "Length: 75567983 (72M) [application/x-httpd-php]\n",
            "Saving to: ‘MHEALTHDATASET.zip’\n",
            "\n",
            "MHEALTHDATASET.zip  100%[===================>]  72.07M  86.1MB/s    in 0.8s    \n",
            "\n",
            "2021-02-14 11:36:37 (86.1 MB/s) - ‘MHEALTHDATASET.zip’ saved [75567983/75567983]\n",
            "\n",
            "Archive:  MHEALTHDATASET.zip\n",
            "   creating: MHEALTHDATASET/\n",
            "  inflating: MHEALTHDATASET/mHealth_subject1.log  \n",
            "  inflating: MHEALTHDATASET/mHealth_subject10.log  \n",
            "  inflating: MHEALTHDATASET/mHealth_subject2.log  \n",
            "  inflating: MHEALTHDATASET/mHealth_subject3.log  \n",
            "  inflating: MHEALTHDATASET/mHealth_subject4.log  \n",
            "  inflating: MHEALTHDATASET/mHealth_subject5.log  \n",
            "  inflating: MHEALTHDATASET/mHealth_subject6.log  \n",
            "  inflating: MHEALTHDATASET/mHealth_subject7.log  \n",
            "  inflating: MHEALTHDATASET/mHealth_subject8.log  \n",
            "  inflating: MHEALTHDATASET/mHealth_subject9.log  \n",
            "  inflating: MHEALTHDATASET/README.txt  \n"
          ],
          "name": "stdout"
        }
      ]
    },
    {
      "cell_type": "code",
      "metadata": {
        "colab": {
          "base_uri": "https://localhost:8080/"
        },
        "id": "McrzyM_dUcNF",
        "outputId": "2af0476c-1e5a-4b15-dbc1-d4f0b00991bc"
      },
      "source": [
        "! cat MHEALTHDATASET/README.txt"
      ],
      "execution_count": 11,
      "outputs": [
        {
          "output_type": "stream",
          "text": [
            "\r\n",
            "*************************************************** mHealth dataset **********************************************************\r\n",
            "\r\n",
            "Authors: Oresti Ba�os, Rafael Garcia, Alejandro Saez\r\n",
            "Date: 22/10/2013\r\n",
            "Institution: University of Granada (UGR) \r\n",
            "Department: Department of Computer Architecture and Computer Technology.\r\n",
            "Contact: oresti@ugr.es (oresti.bl@gmail.com)\r\n",
            "\r\n",
            "---------------------------------------------------------------------------------------------------------------------------------------------\r\n",
            "NOTE: if you use this dataset please cite the following work\r\n",
            "\r\n",
            "Banos, O., Garcia, R., Holgado-Terriza, J.A., Damas, M., Pomares, H., Rojas, I., Saez, A., Villalonga, C.: \r\n",
            "mHealthDroid: a novel framework for agile development of mobile health applications. \r\n",
            "In: Proceedings of the 6th International Work-conference on Ambient Assisted Living an Active Ageing (IWAAL 2014), Belfast, United Kingdom, December 2-5 (2014)\r\n",
            "\r\n",
            "Insightful figures and descriptions are presented within this work.\r\n",
            "---------------------------------------------------------------------------------------------------------------------------------------------\r\n",
            "\r\n",
            "1) Experimental Setup\r\n",
            "\r\n",
            "The collected dataset comprises body motion and vital signs recordings for ten volunteers of diverse profile while performing 12 physical activities (Table 1). \r\n",
            "Shimmer2 [BUR10] wearable sensors were used for the recordings. The sensors were respectively placed on the subject's chest, right wrist and left ankle and \r\n",
            "attached by using elastic straps (as shown in the figure in attachment). The use of multiple sensors permits us to measure the motion experienced by diverse body parts, \r\n",
            "namely, the acceleration, the rate of turn and the magnetic field orientation, thus better capturing the body dynamics. The sensor positioned\r\n",
            "on the chest also provides 2-lead ECG measurements which are not used for the development of the recognition model but rather collected for future work purposes.\r\n",
            "This information can be used, for example, for basic heart monitoring, checking for various arrhythmias or looking at the effects of exercise on the ECG. \r\n",
            "All sensing modalities are recorded at a sampling rate of 50 Hz, which is considered sufficient for capturing human activity. Each session was recorded using a video camera.\r\n",
            "This dataset is found to generalize to common activities of the daily living, given the diversity of body parts involved in each one (e.g., frontal elevation of arms vs.\r\n",
            "knees bending), the intensity of the actions (e.g., cycling vs. sitting and relaxing) and their execution speed or dynamicity (e.g., running vs. standing still). The activities\r\n",
            "were collected in an out-of-lab environment with no constraints on the way these must be executed, with the exception that the subject should try their best when executing them.\r\n",
            "\r\n",
            "2) Activity set\r\n",
            "\r\n",
            "The activity set is listed in the following:\r\n",
            "\r\n",
            "L1: Standing still (1 min) \r\n",
            "L2: Sitting and relaxing (1 min) \r\n",
            "L3: Lying down (1 min) \r\n",
            "L4: Walking (1 min) \r\n",
            "L5: Climbing stairs (1 min) \r\n",
            "L6: Waist bends forward (20x) \r\n",
            "L7: Frontal elevation of arms (20x)\r\n",
            "L8: Knees bending (crouching) (20x)\r\n",
            "L9: Cycling (1 min)\r\n",
            "L10: Jogging (1 min)\r\n",
            "L11: Running (1 min)\r\n",
            "L12: Jump front & back (20x)\r\n",
            "\r\n",
            "NOTE: In brackets are the number of repetitions (Nx) or the duration of the exercises (min).\r\n",
            "\r\n",
            "3) Dataset files\r\n",
            "The data collected for each subject is stored in a different log file: 'mHealth_subject<SUBJECT_ID>.log'.\r\n",
            "Each file contains the samples (by rows) recorded for all sensors (by columns).\r\n",
            "The labels used to identify the activities are similar to the ones presented in Section 2 (e.g., the label for walking is '4').\r\n",
            "The meaning of each column is detailed next:\r\n",
            "\r\n",
            "Column 1: acceleration from the chest sensor (X axis)\r\n",
            "Column 2: acceleration from the chest sensor (Y axis)\r\n",
            "Column 3: acceleration from the chest sensor (Z axis)\r\n",
            "Column 4: electrocardiogram signal (lead 1) \r\n",
            "Column 5: electrocardiogram signal (lead 2)\r\n",
            "Column 6: acceleration from the left-ankle sensor (X axis)\r\n",
            "Column 7: acceleration from the left-ankle sensor (Y axis)\r\n",
            "Column 8: acceleration from the left-ankle sensor (Z axis)\r\n",
            "Column 9: gyro from the left-ankle sensor (X axis)\r\n",
            "Column 10: gyro from the left-ankle sensor (Y axis)\r\n",
            "Column 11: gyro from the left-ankle sensor (Z axis)\r\n",
            "Column 13: magnetometer from the left-ankle sensor (X axis)\r\n",
            "Column 13: magnetometer from the left-ankle sensor (Y axis)\r\n",
            "Column 14: magnetometer from the left-ankle sensor (Z axis)\r\n",
            "Column 15: acceleration from the right-lower-arm sensor (X axis)\r\n",
            "Column 16: acceleration from the right-lower-arm sensor (Y axis)\r\n",
            "Column 17: acceleration from the right-lower-arm sensor (Z axis)\r\n",
            "Column 18: gyro from the right-lower-arm sensor (X axis)\r\n",
            "Column 19: gyro from the right-lower-arm sensor (Y axis)\r\n",
            "Column 20: gyro from the right-lower-arm sensor (Z axis)\r\n",
            "Column 21: magnetometer from the right-lower-arm sensor (X axis)\r\n",
            "Column 22: magnetometer from the right-lower-arm sensor (Y axis)\r\n",
            "Column 23: magnetometer from the right-lower-arm sensor (Z axis)\r\n",
            "Column 24: Label (0 for the null class)\r\n",
            "\r\n",
            "*Units: Acceleration (m/s^2), gyroscope (deg/s), magnetic field (local), ecg (mV)\r\n",
            "\r\n"
          ],
          "name": "stdout"
        }
      ]
    },
    {
      "cell_type": "code",
      "metadata": {
        "colab": {
          "base_uri": "https://localhost:8080/"
        },
        "id": "416REteaUcPv",
        "outputId": "760faa98-d9d7-4ca6-ee17-6702a3093004"
      },
      "source": [
        "os.listdir('MHEALTHDATASET/')"
      ],
      "execution_count": 5,
      "outputs": [
        {
          "output_type": "execute_result",
          "data": {
            "text/plain": [
              "['mHealth_subject10.log',\n",
              " 'mHealth_subject2.log',\n",
              " 'mHealth_subject9.log',\n",
              " 'mHealth_subject4.log',\n",
              " 'mHealth_subject8.log',\n",
              " 'mHealth_subject7.log',\n",
              " 'README.txt',\n",
              " 'mHealth_subject3.log',\n",
              " 'mHealth_subject6.log',\n",
              " 'mHealth_subject5.log',\n",
              " 'mHealth_subject1.log']"
            ]
          },
          "metadata": {
            "tags": []
          },
          "execution_count": 5
        }
      ]
    },
    {
      "cell_type": "code",
      "metadata": {
        "colab": {
          "base_uri": "https://localhost:8080/"
        },
        "id": "9tkazUc6VCym",
        "outputId": "5545f22e-9138-4523-9f28-91de49eb7937"
      },
      "source": [
        "for i in os.listdir('MHEALTHDATASET/'):\n",
        "  if i not in ('README.txt'):\n",
        "    print(i)"
      ],
      "execution_count": 6,
      "outputs": [
        {
          "output_type": "stream",
          "text": [
            "mHealth_subject10.log\n",
            "mHealth_subject2.log\n",
            "mHealth_subject9.log\n",
            "mHealth_subject4.log\n",
            "mHealth_subject8.log\n",
            "mHealth_subject7.log\n",
            "mHealth_subject3.log\n",
            "mHealth_subject6.log\n",
            "mHealth_subject5.log\n",
            "mHealth_subject1.log\n"
          ],
          "name": "stdout"
        }
      ]
    },
    {
      "cell_type": "code",
      "metadata": {
        "id": "i28-uPjEVC12"
      },
      "source": [
        "df = pd.DataFrame()\n",
        "#loop to combine all data\n",
        "for i in range(1,11):\n",
        "    df1 = pd.read_csv(f'MHEALTHDATASET/mHealth_subject{i}.log', header=None, sep='\\t')\n",
        "    df1 = df1.loc[:, [5,6,7,8,9,10,14,15,16,17,18,19, 23]]\n",
        "    df1 = df1.rename(columns={\n",
        "        5:\"alx\", 6:\"aly\", 7:\"alz\", 8:\"glx\", 9:\"gly\", 10:\"glz\", 14:\"arx\",15:\"ary\", 16:\"arz\", 17:\"grx\", 18:\"gry\", 19:\"grz\", 23:\"Activity\"\n",
        "        })\n",
        "    df1['subject'] = 'subject'+str(i)\n",
        "    df = pd.concat([df,df1])"
      ],
      "execution_count": 7,
      "outputs": []
    },
    {
      "cell_type": "code",
      "metadata": {
        "id": "Gx9dNezVVC5M"
      },
      "source": [
        "#storing data in google drive\n",
        "df.to_csv('/content/drive/MyDrive/Datasets/mhealth_human_activity_data/mhealth_raw_data.csv',index = False)"
      ],
      "execution_count": 8,
      "outputs": []
    },
    {
      "cell_type": "code",
      "metadata": {
        "colab": {
          "base_uri": "https://localhost:8080/",
          "height": 438
        },
        "id": "3jJFy8h-VDQd",
        "outputId": "54beb308-762a-4f28-85e1-3c864309afb1"
      },
      "source": [
        "#reading data\n",
        "df = pd.read_csv('/content/drive/MyDrive/Datasets/mhealth_human_activity_data/mhealth_raw_data.csv')\n",
        "df"
      ],
      "execution_count": 9,
      "outputs": [
        {
          "output_type": "execute_result",
          "data": {
            "text/html": [
              "<div>\n",
              "<style scoped>\n",
              "    .dataframe tbody tr th:only-of-type {\n",
              "        vertical-align: middle;\n",
              "    }\n",
              "\n",
              "    .dataframe tbody tr th {\n",
              "        vertical-align: top;\n",
              "    }\n",
              "\n",
              "    .dataframe thead th {\n",
              "        text-align: right;\n",
              "    }\n",
              "</style>\n",
              "<table border=\"1\" class=\"dataframe\">\n",
              "  <thead>\n",
              "    <tr style=\"text-align: right;\">\n",
              "      <th></th>\n",
              "      <th>alx</th>\n",
              "      <th>aly</th>\n",
              "      <th>alz</th>\n",
              "      <th>glx</th>\n",
              "      <th>gly</th>\n",
              "      <th>glz</th>\n",
              "      <th>arx</th>\n",
              "      <th>ary</th>\n",
              "      <th>arz</th>\n",
              "      <th>grx</th>\n",
              "      <th>gry</th>\n",
              "      <th>grz</th>\n",
              "      <th>Activity</th>\n",
              "      <th>subject</th>\n",
              "    </tr>\n",
              "  </thead>\n",
              "  <tbody>\n",
              "    <tr>\n",
              "      <th>0</th>\n",
              "      <td>2.1849</td>\n",
              "      <td>-9.6967</td>\n",
              "      <td>0.63077</td>\n",
              "      <td>0.103900</td>\n",
              "      <td>-0.84053</td>\n",
              "      <td>-0.68762</td>\n",
              "      <td>-8.6499</td>\n",
              "      <td>-4.5781</td>\n",
              "      <td>0.187760</td>\n",
              "      <td>-0.449020</td>\n",
              "      <td>-1.01030</td>\n",
              "      <td>0.034483</td>\n",
              "      <td>0</td>\n",
              "      <td>subject1</td>\n",
              "    </tr>\n",
              "    <tr>\n",
              "      <th>1</th>\n",
              "      <td>2.3876</td>\n",
              "      <td>-9.5080</td>\n",
              "      <td>0.68389</td>\n",
              "      <td>0.085343</td>\n",
              "      <td>-0.83865</td>\n",
              "      <td>-0.68369</td>\n",
              "      <td>-8.6275</td>\n",
              "      <td>-4.3198</td>\n",
              "      <td>0.023595</td>\n",
              "      <td>-0.449020</td>\n",
              "      <td>-1.01030</td>\n",
              "      <td>0.034483</td>\n",
              "      <td>0</td>\n",
              "      <td>subject1</td>\n",
              "    </tr>\n",
              "    <tr>\n",
              "      <th>2</th>\n",
              "      <td>2.4086</td>\n",
              "      <td>-9.5674</td>\n",
              "      <td>0.68113</td>\n",
              "      <td>0.085343</td>\n",
              "      <td>-0.83865</td>\n",
              "      <td>-0.68369</td>\n",
              "      <td>-8.5055</td>\n",
              "      <td>-4.2772</td>\n",
              "      <td>0.275720</td>\n",
              "      <td>-0.449020</td>\n",
              "      <td>-1.01030</td>\n",
              "      <td>0.034483</td>\n",
              "      <td>0</td>\n",
              "      <td>subject1</td>\n",
              "    </tr>\n",
              "    <tr>\n",
              "      <th>3</th>\n",
              "      <td>2.1814</td>\n",
              "      <td>-9.4301</td>\n",
              "      <td>0.55031</td>\n",
              "      <td>0.085343</td>\n",
              "      <td>-0.83865</td>\n",
              "      <td>-0.68369</td>\n",
              "      <td>-8.6279</td>\n",
              "      <td>-4.3163</td>\n",
              "      <td>0.367520</td>\n",
              "      <td>-0.456860</td>\n",
              "      <td>-1.00820</td>\n",
              "      <td>0.025862</td>\n",
              "      <td>0</td>\n",
              "      <td>subject1</td>\n",
              "    </tr>\n",
              "    <tr>\n",
              "      <th>4</th>\n",
              "      <td>2.4173</td>\n",
              "      <td>-9.3889</td>\n",
              "      <td>0.71098</td>\n",
              "      <td>0.085343</td>\n",
              "      <td>-0.83865</td>\n",
              "      <td>-0.68369</td>\n",
              "      <td>-8.7008</td>\n",
              "      <td>-4.1459</td>\n",
              "      <td>0.407290</td>\n",
              "      <td>-0.456860</td>\n",
              "      <td>-1.00820</td>\n",
              "      <td>0.025862</td>\n",
              "      <td>0</td>\n",
              "      <td>subject1</td>\n",
              "    </tr>\n",
              "    <tr>\n",
              "      <th>...</th>\n",
              "      <td>...</td>\n",
              "      <td>...</td>\n",
              "      <td>...</td>\n",
              "      <td>...</td>\n",
              "      <td>...</td>\n",
              "      <td>...</td>\n",
              "      <td>...</td>\n",
              "      <td>...</td>\n",
              "      <td>...</td>\n",
              "      <td>...</td>\n",
              "      <td>...</td>\n",
              "      <td>...</td>\n",
              "      <td>...</td>\n",
              "      <td>...</td>\n",
              "    </tr>\n",
              "    <tr>\n",
              "      <th>1215740</th>\n",
              "      <td>1.7849</td>\n",
              "      <td>-9.8287</td>\n",
              "      <td>0.29725</td>\n",
              "      <td>-0.341370</td>\n",
              "      <td>-0.90056</td>\n",
              "      <td>-0.61493</td>\n",
              "      <td>-3.7198</td>\n",
              "      <td>-8.9071</td>\n",
              "      <td>0.294230</td>\n",
              "      <td>0.041176</td>\n",
              "      <td>-0.99384</td>\n",
              "      <td>-0.480600</td>\n",
              "      <td>0</td>\n",
              "      <td>subject10</td>\n",
              "    </tr>\n",
              "    <tr>\n",
              "      <th>1215741</th>\n",
              "      <td>1.8687</td>\n",
              "      <td>-9.8766</td>\n",
              "      <td>0.46236</td>\n",
              "      <td>-0.341370</td>\n",
              "      <td>-0.90056</td>\n",
              "      <td>-0.61493</td>\n",
              "      <td>-3.7160</td>\n",
              "      <td>-8.7455</td>\n",
              "      <td>0.448140</td>\n",
              "      <td>0.041176</td>\n",
              "      <td>-0.99384</td>\n",
              "      <td>-0.480600</td>\n",
              "      <td>0</td>\n",
              "      <td>subject10</td>\n",
              "    </tr>\n",
              "    <tr>\n",
              "      <th>1215742</th>\n",
              "      <td>1.6928</td>\n",
              "      <td>-9.9290</td>\n",
              "      <td>0.16631</td>\n",
              "      <td>-0.341370</td>\n",
              "      <td>-0.90056</td>\n",
              "      <td>-0.61493</td>\n",
              "      <td>-3.8824</td>\n",
              "      <td>-9.1155</td>\n",
              "      <td>0.450480</td>\n",
              "      <td>0.041176</td>\n",
              "      <td>-0.99384</td>\n",
              "      <td>-0.480600</td>\n",
              "      <td>0</td>\n",
              "      <td>subject10</td>\n",
              "    </tr>\n",
              "    <tr>\n",
              "      <th>1215743</th>\n",
              "      <td>1.5279</td>\n",
              "      <td>-9.6306</td>\n",
              "      <td>0.30458</td>\n",
              "      <td>-0.341370</td>\n",
              "      <td>-0.90056</td>\n",
              "      <td>-0.61493</td>\n",
              "      <td>-3.5564</td>\n",
              "      <td>-9.1441</td>\n",
              "      <td>0.594880</td>\n",
              "      <td>0.041176</td>\n",
              "      <td>-0.99384</td>\n",
              "      <td>-0.480600</td>\n",
              "      <td>0</td>\n",
              "      <td>subject10</td>\n",
              "    </tr>\n",
              "    <tr>\n",
              "      <th>1215744</th>\n",
              "      <td>1.6614</td>\n",
              "      <td>-9.8398</td>\n",
              "      <td>0.18088</td>\n",
              "      <td>-0.332100</td>\n",
              "      <td>-0.90432</td>\n",
              "      <td>-0.61886</td>\n",
              "      <td>-3.9035</td>\n",
              "      <td>-8.9324</td>\n",
              "      <td>0.761710</td>\n",
              "      <td>0.035294</td>\n",
              "      <td>-1.02050</td>\n",
              "      <td>-0.471980</td>\n",
              "      <td>0</td>\n",
              "      <td>subject10</td>\n",
              "    </tr>\n",
              "  </tbody>\n",
              "</table>\n",
              "<p>1215745 rows × 14 columns</p>\n",
              "</div>"
            ],
            "text/plain": [
              "            alx     aly      alz  ...       grz  Activity    subject\n",
              "0        2.1849 -9.6967  0.63077  ...  0.034483         0   subject1\n",
              "1        2.3876 -9.5080  0.68389  ...  0.034483         0   subject1\n",
              "2        2.4086 -9.5674  0.68113  ...  0.034483         0   subject1\n",
              "3        2.1814 -9.4301  0.55031  ...  0.025862         0   subject1\n",
              "4        2.4173 -9.3889  0.71098  ...  0.025862         0   subject1\n",
              "...         ...     ...      ...  ...       ...       ...        ...\n",
              "1215740  1.7849 -9.8287  0.29725  ... -0.480600         0  subject10\n",
              "1215741  1.8687 -9.8766  0.46236  ... -0.480600         0  subject10\n",
              "1215742  1.6928 -9.9290  0.16631  ... -0.480600         0  subject10\n",
              "1215743  1.5279 -9.6306  0.30458  ... -0.480600         0  subject10\n",
              "1215744  1.6614 -9.8398  0.18088  ... -0.471980         0  subject10\n",
              "\n",
              "[1215745 rows x 14 columns]"
            ]
          },
          "metadata": {
            "tags": []
          },
          "execution_count": 9
        }
      ]
    }
  ]
}